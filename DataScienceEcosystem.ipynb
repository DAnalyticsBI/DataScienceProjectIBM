{
 "cells": [
  {
   "cell_type": "markdown",
   "id": "d52cd67b-6ab7-493c-8804-1fd7f0588a51",
   "metadata": {},
   "source": [
    "# Data Sciencee Tools and Ecosystem"
   ]
  },
  {
   "cell_type": "markdown",
   "id": "8650a6d9-8ddd-4e59-8685-9d0dc3db318a",
   "metadata": {},
   "source": [
    "In this notebook, Data Science Tools and Ecossytem are summarized"
   ]
  },
  {
   "cell_type": "markdown",
   "id": "eb67268a-75b8-4b72-8591-ba070c718054",
   "metadata": {},
   "source": [
    "**Objectives:**\n",
    "- List popular languages for Data Science.\n",
    "- Introduce common Data Science libraries.\n",
    "- Provide examples of arithmetic operations in Python.\n",
    "- Highlight tools used in Data Science.\n",
    "- Explore methods for converting time units."
   ]
  },
  {
   "cell_type": "markdown",
   "id": "9189b549-aa77-4918-a189-4d2e60e44e37",
   "metadata": {},
   "source": [
    "Some of the popular languages thaht Data Scientis use are:\n",
    "1. Python\n",
    "2. R\n",
    "3. SQL\n",
    "4. Julia\n",
    "5. Scala"
   ]
  },
  {
   "cell_type": "markdown",
   "id": "68f080cf-ec8e-4a15-9db3-cb89a588d4b1",
   "metadata": {},
   "source": [
    "Some of the commonly used libraries used by Data Scientist include:\n",
    "1. Pandas\n",
    "2. Numpy\n",
    "3. Scikit-learn\n",
    "4. TensorFlow\n",
    "5. Matplotlib"
   ]
  },
  {
   "cell_type": "markdown",
   "id": "833bc9de-0d9c-4459-aa71-972cfaabd042",
   "metadata": {},
   "source": [
    "| Data Science Tools   |\n",
    "|----------------------|\n",
    "| Jupyter Notebook     |\n",
    "| RStudio              |\n",
    "| Apache Zeppelin      |"
   ]
  },
  {
   "cell_type": "markdown",
   "id": "e312c657-0d63-46ed-a759-e6014b7a552f",
   "metadata": {},
   "source": [
    "### Below are a few examples of evaluating arithmetic expresions in Python"
   ]
  },
  {
   "cell_type": "markdown",
   "id": "a9eb39dc-c26e-4837-b7f0-1d382011a57b",
   "metadata": {},
   "source": [
    "# This is a simple arithmetic expression to multiply then add integers"
   ]
  },
  {
   "cell_type": "markdown",
   "id": "a818820d-da91-41a7-891a-29d91bcbfbeb",
   "metadata": {},
   "source": [
    "# This will convert 200 minutes to hours by dividing by 60"
   ]
  },
  {
   "cell_type": "code",
   "execution_count": 26,
   "id": "271eca12-9662-4ed9-b914-e6074e229ab7",
   "metadata": {},
   "outputs": [
    {
     "data": {
      "text/plain": [
       "3.3333333333333335"
      ]
     },
     "execution_count": 26,
     "metadata": {},
     "output_type": "execute_result"
    }
   ],
   "source": [
    "200/60"
   ]
  },
  {
   "cell_type": "markdown",
   "id": "62170ff5-f13f-4e81-9931-6bc0ee268ced",
   "metadata": {},
   "source": [
    "**Author:** Danilo Alberto Aguilar"
   ]
  }
 ],
 "metadata": {
  "kernelspec": {
   "display_name": "Python 3 (ipykernel)",
   "language": "python",
   "name": "python3"
  },
  "language_info": {
   "codemirror_mode": {
    "name": "ipython",
    "version": 3
   },
   "file_extension": ".py",
   "mimetype": "text/x-python",
   "name": "python",
   "nbconvert_exporter": "python",
   "pygments_lexer": "ipython3",
   "version": "3.12.7"
  }
 },
 "nbformat": 4,
 "nbformat_minor": 5
}
